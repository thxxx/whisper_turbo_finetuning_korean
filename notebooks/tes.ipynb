{
 "cells": [
  {
   "cell_type": "code",
   "execution_count": null,
   "id": "31d63a19",
   "metadata": {},
   "outputs": [],
   "source": [
    "from datasets import concatenate_datasets\n"
   ]
  },
  {
   "cell_type": "code",
   "execution_count": null,
   "id": "48f55040",
   "metadata": {},
   "outputs": [],
   "source": [
    "import torch\n",
    "from transformers import AutoModelForSpeechSeq2Seq, AutoProcessor, pipeline\n",
    "from datasets import load_dataset\n",
    "import librosa\n",
    "\n",
    "device = \"cuda:0\" if torch.cuda.is_available() else \"cpu\"\n",
    "torch_dtype = torch.float16 if torch.cuda.is_available() else torch.float32\n",
    "\n",
    "model_id = \"/home/khj6051/whisper/whisper-finetune/checkpoint-43000\"\n",
    "model = AutoModelForSpeechSeq2Seq.from_pretrained(\n",
    "    model_id, torch_dtype=torch_dtype, low_cpu_mem_usage=True, use_safetensors=True\n",
    ")\n",
    "model.to(device)\n",
    "\n",
    "processor = AutoProcessor.from_pretrained(\"openai/whisper-large-v3-turbo\")\n",
    "\n",
    "pipe = pipeline(\n",
    "    \"automatic-speech-recognition\",\n",
    "    model=model,\n",
    "    tokenizer=processor.tokenizer,\n",
    "    feature_extractor=processor.feature_extractor,\n",
    "    torch_dtype=torch_dtype,\n",
    "    device=device,\n",
    ")"
   ]
  },
  {
   "cell_type": "code",
   "execution_count": null,
   "id": "018b4305",
   "metadata": {},
   "outputs": [],
   "source": [
    "from datasets import load_dataset\n",
    "\n",
    "ds = load_dataset(\"kresnik/zeroth_korean\")[\"train\"]\n",
    "splits = ds.train_test_split(test_size=0.1, seed=42)  # seed 고정하면 재현성 O\n",
    "\n",
    "train_ds = splits[\"train\"]\n",
    "val_ds   = splits[\"test\"]"
   ]
  },
  {
   "cell_type": "code",
   "execution_count": null,
   "id": "cfba13af",
   "metadata": {},
   "outputs": [],
   "source": [
    "import torchaudio\n",
    "\n",
    "for data in val_ds:\n",
    "    array = torch.tensor(data['audio']['array']).to(device)\n",
    "    sr = data['audio']['sampling_rate']\n",
    "    if sr != 16000:\n",
    "        resampler = torchaudio.transforms.Resample(sr, 16000).to(device)\n",
    "        array = resampler(array)\n",
    "    result = pipe(array)\n",
    "    print(result)\n",
    "    print(data['text'])\n",
    "    break"
   ]
  },
  {
   "cell_type": "code",
   "execution_count": null,
   "id": "62a47e84",
   "metadata": {},
   "outputs": [],
   "source": [
    "from datasets import load_dataset\n",
    "path = \"Emilia-YODAS/KO/*.tar\" # Same for Emilia-YODAS; just replace \"Emilia/\" with \"Emilia-YODAS/\"\n",
    "dataset = load_dataset(\"amphion/Emilia-Dataset\", data_files={\"ko\": path}, split=\"ko\", streaming=False)\n",
    "splits = dataset.train_test_split(test_size=0.1, seed=42)  # seed 고정하면 재현성 O\n",
    "\n",
    "train_ds = splits[\"train\"]\n",
    "val_ds   = splits[\"test\"].select(range(3000))\n",
    "\n",
    "print(len(train_ds))"
   ]
  },
  {
   "cell_type": "code",
   "execution_count": null,
   "id": "87c8a472",
   "metadata": {},
   "outputs": [],
   "source": [
    "import torch\n",
    "device='cuda'\n",
    "import torchaudio\n",
    "\n",
    "for idx, data in enumerate(val_ds):\n",
    "    array = torch.tensor(data['mp3']['array']).to(device)\n",
    "    print(array.shape)\n",
    "    if idx>10:\n",
    "        break"
   ]
  },
  {
   "cell_type": "code",
   "execution_count": null,
   "id": "f7811a76",
   "metadata": {},
   "outputs": [],
   "source": [
    "val_ds[0]"
   ]
  },
  {
   "cell_type": "code",
   "execution_count": null,
   "id": "abf6ffa4",
   "metadata": {},
   "outputs": [],
   "source": [
    "import numpy as np\n",
    "from datasets import load_dataset, Audio\n",
    "from utils import clean_transcript\n",
    "\n",
    "ds = load_dataset(\"idiotDeveloper/koreanTelephone\")\n",
    "ds = ds.cast_column(\"audio\", Audio(decode=True, sampling_rate=16000))\n",
    "\n",
    "print(len(ds['test']))\n",
    "arr = np.array(ds['test'][\"transcripts\"])\n",
    "mask = np.array([not (\"((\" in t or \"))\" in t) for t in arr])\n",
    "ds['test'] = ds['test'].select(np.where(mask)[0])\n",
    "print(len(ds['test']))\n",
    "\n",
    "ds['test'] = ds[\"test\"].map(clean_transcript)"
   ]
  },
  {
   "cell_type": "code",
   "execution_count": null,
   "id": "b7aa3f5e",
   "metadata": {},
   "outputs": [],
   "source": [
    "print(len(ds['test']['transcripts']))\n",
    "print(len(set(ds['test']['transcripts'])))"
   ]
  },
  {
   "cell_type": "code",
   "execution_count": null,
   "id": "10b28306",
   "metadata": {},
   "outputs": [],
   "source": [
    "import pandas as pd\n",
    "\n",
    "df = ds[\"test\"].to_pandas()\n",
    "df = df.drop_duplicates(subset=[\"transcripts\"])  # transcripts 기준 중복 제거\n",
    "\n",
    "# 다시 Hugging Face Dataset으로 변환\n",
    "from datasets import Dataset\n",
    "ds[\"test\"] = Dataset.from_pandas(df, preserve_index=False)\n",
    "print(len(ds['test']['transcripts']))"
   ]
  },
  {
   "cell_type": "code",
   "execution_count": 1,
   "id": "b8fcad04",
   "metadata": {},
   "outputs": [],
   "source": [
    "# ------------------------------------\n",
    "# 2) 텍스트 전처리(간단 버전: 한국어 위주)\n",
    "# ------------------------------------\n",
    "def normalize_text(txt: str) -> str:\n",
    "    \"\"\"\n",
    "    - 소문자화, 양끝 공백 제거\n",
    "    - 불필요한 중복 공백 제거\n",
    "    - (옵션) 기호 단순화 등\n",
    "    NOTE: 프로젝트 특성에 맞춰 적절히 확장하세요.\n",
    "    \"\"\"\n",
    "    if txt is None:\n",
    "        return \"\"\n",
    "    t = txt.strip()\n",
    "    # Whisper는 케이스/구두점 학습도 가능하므로, 너무 aggressive 하게 제거하지 않습니다.\n",
    "    t = \" \".join(t.split())\n",
    "    return t"
   ]
  },
  {
   "cell_type": "code",
   "execution_count": null,
   "id": "eadecd4b",
   "metadata": {},
   "outputs": [
    {
     "data": {
      "text/plain": [
       "'Whisper는 케이스/구두점 학습도 가능하므로, 너무 aggressive 하게 제거하지 않습니다.'"
      ]
     },
     "execution_count": 2,
     "metadata": {},
     "output_type": "execute_result"
    }
   ],
   "source": []
  },
  {
   "cell_type": "code",
   "execution_count": null,
   "id": "5ceee224",
   "metadata": {},
   "outputs": [],
   "source": []
  }
 ],
 "metadata": {
  "kernelspec": {
   "display_name": "myenv",
   "language": "python",
   "name": "python3"
  },
  "language_info": {
   "codemirror_mode": {
    "name": "ipython",
    "version": 3
   },
   "file_extension": ".py",
   "mimetype": "text/x-python",
   "name": "python",
   "nbconvert_exporter": "python",
   "pygments_lexer": "ipython3",
   "version": "3.10.12"
  }
 },
 "nbformat": 4,
 "nbformat_minor": 5
}
